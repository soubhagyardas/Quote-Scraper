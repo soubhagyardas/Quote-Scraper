{
 "cells": [
  {
   "cell_type": "code",
   "execution_count": 1,
   "id": "e5a56579",
   "metadata": {},
   "outputs": [],
   "source": [
    "import requests\n",
    "\n",
    "from pages.quotes_page import QuotesPage"
   ]
  },
  {
   "cell_type": "code",
   "execution_count": 2,
   "id": "d886f971",
   "metadata": {},
   "outputs": [],
   "source": [
    "page_content = requests.get('https://quotes.toscrape.com').content\n",
    "\n",
    "page = QuotesPage(page_content)"
   ]
  },
  {
   "cell_type": "code",
   "execution_count": 3,
   "id": "40367cbe",
   "metadata": {},
   "outputs": [
    {
     "data": {
      "text/plain": [
       "[<The quote “The world as we have created it is a process of our thinking. It cannot be changed without changing our thinking.” by Albert Einstein>,\n",
       " <The quote “It is our choices, Harry, that show what we truly are, far more than our abilities.” by J.K. Rowling>,\n",
       " <The quote “There are only two ways to live your life. One is as though nothing is a miracle. The other is as though everything is a miracle.” by Albert Einstein>,\n",
       " <The quote “The person, be it gentleman or lady, who has not pleasure in a good novel, must be intolerably stupid.” by Jane Austen>,\n",
       " <The quote “Imperfection is beauty, madness is genius and it's better to be absolutely ridiculous than absolutely boring.” by Marilyn Monroe>,\n",
       " <The quote “Try not to become a man of success. Rather become a man of value.” by Albert Einstein>,\n",
       " <The quote “It is better to be hated for what you are than to be loved for what you are not.” by André Gide>,\n",
       " <The quote “I have not failed. I've just found 10,000 ways that won't work.” by Thomas A. Edison>,\n",
       " <The quote “A woman is like a tea bag; you never know how strong it is until it's in hot water.” by Eleanor Roosevelt>,\n",
       " <The quote “A day without sunshine is like, you know, night.” by Steve Martin>]"
      ]
     },
     "execution_count": 3,
     "metadata": {},
     "output_type": "execute_result"
    }
   ],
   "source": [
    "page.quotes"
   ]
  },
  {
   "cell_type": "code",
   "execution_count": 87,
   "id": "81f19ab1",
   "metadata": {},
   "outputs": [],
   "source": [
    "quotes = []\n",
    "author = []\n",
    "\n",
    "for quote in page.quotes:\n",
    "    q = re.search('“(.*?)”', str(quote)).group(1)\n",
    "    a = re.search('(”\\sby\\s)(.*?)>', str(quote)).group(2)\n",
    "    \n",
    "    quotes.append(q)\n",
    "    author.append(a)"
   ]
  },
  {
   "cell_type": "code",
   "execution_count": 12,
   "id": "8c2b5ef3",
   "metadata": {},
   "outputs": [],
   "source": [
    "import re"
   ]
  },
  {
   "cell_type": "code",
   "execution_count": 58,
   "id": "829c8c99",
   "metadata": {},
   "outputs": [],
   "source": [
    "pattern = re.findall(r'([\\S]+)', w)"
   ]
  },
  {
   "cell_type": "code",
   "execution_count": 66,
   "id": "dbcfb5a7",
   "metadata": {},
   "outputs": [
    {
     "data": {
      "text/plain": [
       "'<The quote “The world as we have created it is a process of our thinking. It cannot be changed without changing our thinking.” by Albert Einstein>'"
      ]
     },
     "execution_count": 66,
     "metadata": {},
     "output_type": "execute_result"
    }
   ],
   "source": [
    "w = str(page.quotes[0])\n",
    "w"
   ]
  },
  {
   "cell_type": "code",
   "execution_count": 79,
   "id": "95293d73",
   "metadata": {},
   "outputs": [
    {
     "name": "stdout",
     "output_type": "stream",
     "text": [
      "” by \n"
     ]
    }
   ],
   "source": [
    "print(re.search('(”\\sby\\s)(.*?)>', str(w)).group(1))"
   ]
  },
  {
   "cell_type": "code",
   "execution_count": 88,
   "id": "5568d471",
   "metadata": {},
   "outputs": [
    {
     "data": {
      "text/plain": [
       "['The world as we have created it is a process of our thinking. It cannot be changed without changing our thinking.',\n",
       " 'It is our choices, Harry, that show what we truly are, far more than our abilities.',\n",
       " 'There are only two ways to live your life. One is as though nothing is a miracle. The other is as though everything is a miracle.',\n",
       " 'The person, be it gentleman or lady, who has not pleasure in a good novel, must be intolerably stupid.',\n",
       " \"Imperfection is beauty, madness is genius and it's better to be absolutely ridiculous than absolutely boring.\",\n",
       " 'Try not to become a man of success. Rather become a man of value.',\n",
       " 'It is better to be hated for what you are than to be loved for what you are not.',\n",
       " \"I have not failed. I've just found 10,000 ways that won't work.\",\n",
       " \"A woman is like a tea bag; you never know how strong it is until it's in hot water.\",\n",
       " 'A day without sunshine is like, you know, night.']"
      ]
     },
     "execution_count": 88,
     "metadata": {},
     "output_type": "execute_result"
    }
   ],
   "source": [
    "quotes"
   ]
  },
  {
   "cell_type": "code",
   "execution_count": 89,
   "id": "fd5487c4",
   "metadata": {},
   "outputs": [
    {
     "data": {
      "text/plain": [
       "['Albert Einstein',\n",
       " 'J.K. Rowling',\n",
       " 'Albert Einstein',\n",
       " 'Jane Austen',\n",
       " 'Marilyn Monroe',\n",
       " 'Albert Einstein',\n",
       " 'André Gide',\n",
       " 'Thomas A. Edison',\n",
       " 'Eleanor Roosevelt',\n",
       " 'Steve Martin']"
      ]
     },
     "execution_count": 89,
     "metadata": {},
     "output_type": "execute_result"
    }
   ],
   "source": [
    "author"
   ]
  },
  {
   "cell_type": "code",
   "execution_count": 168,
   "id": "098ebe3a",
   "metadata": {},
   "outputs": [],
   "source": [
    "key_val_quotes = dict(zip(quotes, author))"
   ]
  },
  {
   "cell_type": "code",
   "execution_count": 169,
   "id": "af08094f",
   "metadata": {},
   "outputs": [
    {
     "data": {
      "text/plain": [
       "{'The world as we have created it is a process of our thinking. It cannot be changed without changing our thinking.': 'Albert Einstein',\n",
       " 'It is our choices, Harry, that show what we truly are, far more than our abilities.': 'J.K. Rowling',\n",
       " 'There are only two ways to live your life. One is as though nothing is a miracle. The other is as though everything is a miracle.': 'Albert Einstein',\n",
       " 'The person, be it gentleman or lady, who has not pleasure in a good novel, must be intolerably stupid.': 'Jane Austen',\n",
       " \"Imperfection is beauty, madness is genius and it's better to be absolutely ridiculous than absolutely boring.\": 'Marilyn Monroe',\n",
       " 'Try not to become a man of success. Rather become a man of value.': 'Albert Einstein',\n",
       " 'It is better to be hated for what you are than to be loved for what you are not.': 'André Gide',\n",
       " \"I have not failed. I've just found 10,000 ways that won't work.\": 'Thomas A. Edison',\n",
       " \"A woman is like a tea bag; you never know how strong it is until it's in hot water.\": 'Eleanor Roosevelt',\n",
       " 'A day without sunshine is like, you know, night.': 'Steve Martin',\n",
       " \"This life is what you make it. No matter what, you're going to mess up sometimes, it's a universal truth. But the good part is you get to decide how you're going to mess it up. Girls will be your friends - they'll act like it anyway. But just remember, some come, some go. The ones that stay with you through everything - they're your true best friends. Don't let go of them. Also remember, sisters make the best friends in the world. As for lovers, well, they'll come and go too. And baby, I hate to say it, most of them - actually pretty much all of them are going to break your heart, but you can't give up because if you give up, you'll never find your soulmate. You'll never find that half who makes you whole and that goes for everything. Just because you fail once, doesn't mean you're gonna fail at everything. Keep trying, hold on, and always, always, always believe in yourself, because if you don't, then who will, sweetie? So keep your head high, keep your chin up, and most importantly, keep smiling, because life's a beautiful thing and there's so much to smile about.\": 'Marilyn Monroe',\n",
       " 'It takes a great deal of bravery to stand up to our enemies, but just as much to stand up to our friends.': 'J.K. Rowling',\n",
       " \"If you can't explain it to a six year old, you don't understand it yourself.\": 'Albert Einstein',\n",
       " \"You may not be her first, her last, or her only. She loved before she may love again. But if she loves you now, what else matters? She's not perfect—you aren't either, and the two of you may never be perfect together but if she can make you laugh, cause you to think twice, and admit to being human and making mistakes, hold onto her and give her the most you can. She may not be thinking about you every second of the day, but she will give you a part of her that she knows you can break—her heart. So don't hurt her, don't change her, don't analyze and don't expect more than she can give. Smile when she makes you happy, let her know when she makes you mad, and miss her when she's not there.\": 'Bob Marley',\n",
       " 'I like nonsense, it wakes up the brain cells. Fantasy is a necessary ingredient in living.': 'Dr. Seuss',\n",
       " 'I may not have gone where I intended to go, but I think I have ended up where I needed to be.': 'Douglas Adams',\n",
       " \"The opposite of love is not hate, it's indifference. The opposite of art is not ugliness, it's indifference. The opposite of faith is not heresy, it's indifference. And the opposite of life is not death, it's indifference.\": 'Elie Wiesel',\n",
       " 'It is not a lack of love, but a lack of friendship that makes unhappy marriages.': 'Friedrich Nietzsche',\n",
       " 'Good friends, good books, and a sleepy conscience: this is the ideal life.': 'Mark Twain',\n",
       " 'Life is what happens to us while we are making other plans.': 'Allen Saunders',\n",
       " 'I love you without knowing how, or when, or from where. I love you simply, without problems or pride: I love you in this way because I do not know any other way of loving but this, in which there is no I or you, so intimate that your hand upon my chest is my hand, so intimate that when I fall asleep your eyes close.': 'Pablo Neruda',\n",
       " 'For every minute you are angry you lose sixty seconds of happiness.': 'Ralph Waldo Emerson',\n",
       " 'If you judge people, you have no time to love them.': 'Mother Teresa',\n",
       " 'Anyone who thinks sitting in church can make you a Christian must also think that sitting in a garage can make you a car.': 'Garrison Keillor',\n",
       " 'Beauty is in the eye of the beholder and it may be necessary from time to time to give a stupid or misinformed beholder a black eye.': 'Jim Henson',\n",
       " 'Today you are You, that is truer than true. There is no one alive who is Youer than You.': 'Dr. Seuss',\n",
       " 'If you want your children to be intelligent, read them fairy tales. If you want them to be more intelligent, read them more fairy tales.': 'Albert Einstein',\n",
       " 'It is impossible to live without failing at something, unless you live so cautiously that you might as well not have lived at all - in which case, you fail by default.': 'J.K. Rowling',\n",
       " 'Logic will get you from A to Z; imagination will get you everywhere.': 'Albert Einstein',\n",
       " 'One good thing about music, when it hits you, you feel no pain.': 'Bob Marley',\n",
       " \"The more that you read, the more things you will know. The more that you learn, the more places you'll go.\": 'Dr. Seuss',\n",
       " 'Of course it is happening inside your head, Harry, but why on earth should that mean that it is not real?': 'J.K. Rowling',\n",
       " 'The truth is, everyone is going to hurt you. You just got to find the ones worth suffering for.': 'Bob Marley',\n",
       " 'Not all of us can do great things. But we can do small things with great love.': 'Mother Teresa',\n",
       " 'To the well-organized mind, death is but the next great adventure.': 'J.K. Rowling',\n",
       " \"All you need is love. But a little chocolate now and then doesn't hurt.\": 'Charles M. Schulz',\n",
       " \"We read to know we're not alone.\": 'William Nicholson',\n",
       " 'Any fool can know. The point is to understand.': 'Albert Einstein',\n",
       " 'I have always imagined that Paradise will be a kind of library.': 'Jorge Luis Borges',\n",
       " 'It is never too late to be what you might have been.': 'George Eliot',\n",
       " 'A reader lives a thousand lives before he dies, said Jojen. The man who never reads lives only one.': 'George R.R. Martin',\n",
       " 'You can never get a cup of tea large enough or a book long enough to suit me.': 'C.S. Lewis',\n",
       " 'You believe lies so you eventually learn to trust no one but yourself.': 'Marilyn Monroe',\n",
       " 'If you can make a woman laugh, you can make her do anything.': 'Marilyn Monroe',\n",
       " 'Life is like riding a bicycle. To keep your balance, you must keep moving.': 'Albert Einstein',\n",
       " 'The real lover is the man who can thrill you by kissing your forehead or smiling into your eyes or just staring into space.': 'Marilyn Monroe',\n",
       " \"A wise girl kisses but doesn't love, listens but doesn't believe, and leaves before she is left.\": 'Marilyn Monroe',\n",
       " 'Only in the darkness can you see the stars.': 'Martin Luther King Jr.',\n",
       " 'It matters not what someone is born, but what they grow to be.': 'J.K. Rowling',\n",
       " 'Love does not begin and end the way we seem to think it does. Love is a battle, love is a war; love is a growing up.': 'James Baldwin',\n",
       " 'There is nothing I would not do for those who are really my friends. I have no notion of loving people by halves, it is not my nature.': 'Jane Austen',\n",
       " 'Do one thing every day that scares you.': 'Eleanor Roosevelt',\n",
       " 'I am good, but not an angel. I do sin, but I am not the devil. I am just a small girl in a big world trying to find someone to love.': 'Marilyn Monroe',\n",
       " 'If I were not a physicist, I would probably be a musician. I often think in music. I live my daydreams in music. I see my life in terms of music.': 'Albert Einstein',\n",
       " 'If you only read the books that everyone else is reading, you can only think what everyone else is thinking.': 'Haruki Murakami',\n",
       " 'The difference between genius and stupidity is: genius has its limits.': 'Alexandre Dumas fils',\n",
       " \"He's like a drug for you, Bella.\": 'Stephenie Meyer',\n",
       " 'There is no friend as loyal as a book.': 'Ernest Hemingway',\n",
       " 'When one door of happiness closes, another opens; but often we look so long at the closed door that we do not see the one which has been opened for us.': 'Helen Keller',\n",
       " \"Life isn't about finding yourself. Life is about creating yourself.\": 'George Bernard Shaw',\n",
       " \"That's the problem with drinking, I thought, as I poured myself a drink. If something bad happens you drink in an attempt to forget; if something good happens you drink in order to celebrate; and if nothing happens you drink to make something happen.\": 'Charles Bukowski',\n",
       " 'You don’t forget the face of the person who was your last hope.': 'Suzanne Collins',\n",
       " \"Remember, we're madly in love, so it's all right to kiss me anytime you feel like it.\": 'Suzanne Collins',\n",
       " 'To love at all is to be vulnerable. Love anything and your heart will be wrung and possibly broken. If you want to make sure of keeping it intact you must give it to no one, not even an animal. Wrap it carefully round with hobbies and little luxuries; avoid all entanglements. Lock it up safe in the casket or coffin of your selfishness. But in that casket, safe, dark, motionless, airless, it will change. It will not be broken; it will become unbreakable, impenetrable, irredeemable. To love is to be vulnerable.': 'C.S. Lewis',\n",
       " 'Not all those who wander are lost.': 'J.R.R. Tolkien',\n",
       " 'Do not pity the dead, Harry. Pity the living, and, above all those who live without love.': 'J.K. Rowling',\n",
       " 'There is nothing to writing. All you do is sit down at a typewriter and bleed.': 'Ernest Hemingway',\n",
       " 'Finish each day and be done with it. You have done what you could. Some blunders and absurdities no doubt crept in; forget them as soon as you can. Tomorrow is a new day. You shall begin it serenely and with too high a spirit to be encumbered with your old nonsense.': 'Ralph Waldo Emerson',\n",
       " 'I have never let my schooling interfere with my education.': 'Mark Twain',\n",
       " \"I have heard there are troubles of more than one kind. Some come from ahead and some come from behind. But I've bought a big bat. I'm all ready you see. Now my troubles are going to have troubles with me!\": 'Dr. Seuss',\n",
       " 'If I had a flower for every time I thought of you...I could walk through my garden forever.': 'Alfred Tennyson',\n",
       " 'Some people never go crazy. What truly horrible lives they must lead.': 'Charles Bukowski',\n",
       " 'The trouble with having an open mind, of course, is that people will insist on coming along and trying to put things in it.': 'Terry Pratchett',\n",
       " 'Think left and think right and think low and think high. Oh, the thinks you can think up if only you try!': 'Dr. Seuss',\n",
       " \"What really knocks me out is a book that, when you're all done reading it, you wish the author that wrote it was a terrific friend of yours and you could call him up on the phone whenever you felt like it. That doesn't happen much, though.\": 'J.D. Salinger',\n",
       " 'The reason I talk to myself is because I’m the only one whose answers I accept.': 'George Carlin',\n",
       " \"You may say I'm a dreamer, but I'm not the only one. I hope someday you'll join us. And the world will live as one.\": 'John Lennon',\n",
       " 'I am free of all prejudice. I hate everyone equally. ': 'W.C. Fields',\n",
       " \"The question isn't who is going to let me; it's who is going to stop me.\": 'Ayn Rand',\n",
       " \"′Classic′ - a book which people praise and don't read.\": 'Mark Twain',\n",
       " 'Anyone who has never made a mistake has never tried anything new.': 'Albert Einstein',\n",
       " \"A lady's imagination is very rapid; it jumps from admiration to love, from love to matrimony in a moment.\": 'Jane Austen',\n",
       " 'Remember, if the time should come when you have to make a choice between what is right and what is easy, remember what happened to a boy who was good, and kind, and brave, because he strayed across the path of Lord Voldemort. Remember Cedric Diggory.': 'J.K. Rowling',\n",
       " 'I declare after all there is no enjoyment like reading! How much sooner one tires of any thing than of a book! -- When I have a house of my own, I shall be miserable if I have not an excellent library.': 'Jane Austen',\n",
       " 'There are few people whom I really love, and still fewer of whom I think well. The more I see of the world, the more am I dissatisfied with it; and every day confirms my belief of the inconsistency of all human characters, and of the little dependence that can be placed on the appearance of merit or sense.': 'Jane Austen',\n",
       " 'Some day you will be old enough to start reading fairy tales again.': 'C.S. Lewis',\n",
       " 'We are not necessarily doubting that God will do the best for us; we are wondering how painful the best will turn out to be.': 'C.S. Lewis',\n",
       " 'The fear of death follows from the fear of life. A man who lives fully is prepared to die at any time.': 'Mark Twain',\n",
       " 'A lie can travel half way around the world while the truth is putting on its shoes.': 'Mark Twain',\n",
       " 'I believe in Christianity as I believe that the sun has risen: not only because I see it, but because by it I see everything else.': 'C.S. Lewis',\n",
       " 'The truth.\" Dumbledore sighed. \"It is a beautiful and terrible thing, and should therefore be treated with great caution.': 'J.K. Rowling',\n",
       " \"I'm the one that's got to die when it's time for me to die, so let me live my life the way I want to.\": 'Jimi Hendrix',\n",
       " 'To die will be an awfully big adventure.': 'J.M. Barrie',\n",
       " 'It takes courage to grow up and become who you really are.': 'E.E. Cummings',\n",
       " 'But better to get hurt by the truth than comforted with a lie.': 'Khaled Hosseini',\n",
       " 'You never really understand a person until you consider things from his point of view... Until you climb inside of his skin and walk around in it.': 'Harper Lee',\n",
       " 'You have to write the book that wants to be written. And if the book will be too difficult for grown-ups, then you write it for children.': \"Madeleine L'Engle\",\n",
       " 'Never tell the truth to people who are not worthy of it.': 'Mark Twain',\n",
       " \"A person's a person, no matter how small.\": 'Dr. Seuss',\n",
       " '... a mind needs books as a sword needs a whetstone, if it is to keep its edge.': 'George R.R. Martin'}"
      ]
     },
     "execution_count": 169,
     "metadata": {},
     "output_type": "execute_result"
    }
   ],
   "source": [
    "key_val_quotes"
   ]
  },
  {
   "cell_type": "code",
   "execution_count": 99,
   "id": "f18b82ae",
   "metadata": {},
   "outputs": [],
   "source": [
    "import csv"
   ]
  },
  {
   "cell_type": "markdown",
   "id": "739d77e7",
   "metadata": {},
   "source": [
    "import csv\n",
    "\n",
    "myDic = { \"a\" : 1, \"b\" : 2, \"c\" : 15}\n",
    "with open('myFile.csv', 'w', newline='') as csvfile:\n",
    "    fieldnames = ['word', 'count']\n",
    "    writer = csv.DictWriter(csvfile, fieldnames=fieldnames)\n",
    "\n",
    "    writer.writeheader()\n",
    "    for key in myDic:\n",
    "        writer.writerow({'word': key, 'count': myDic[key]})"
   ]
  },
  {
   "cell_type": "code",
   "execution_count": 170,
   "id": "44d04a40",
   "metadata": {},
   "outputs": [
    {
     "ename": "UnicodeEncodeError",
     "evalue": "'charmap' codec can't encode character '\\u2032' in position 0: character maps to <undefined>",
     "output_type": "error",
     "traceback": [
      "\u001b[1;31m---------------------------------------------------------------------------\u001b[0m",
      "\u001b[1;31mUnicodeEncodeError\u001b[0m                        Traceback (most recent call last)",
      "\u001b[1;32m~\\AppData\\Local\\Temp/ipykernel_15044/3832319275.py\u001b[0m in \u001b[0;36m<module>\u001b[1;34m\u001b[0m\n\u001b[0;32m      5\u001b[0m     \u001b[0mwriter\u001b[0m\u001b[1;33m.\u001b[0m\u001b[0mwriteheader\u001b[0m\u001b[1;33m(\u001b[0m\u001b[1;33m)\u001b[0m\u001b[1;33m\u001b[0m\u001b[1;33m\u001b[0m\u001b[0m\n\u001b[0;32m      6\u001b[0m     \u001b[1;32mfor\u001b[0m \u001b[0mkey\u001b[0m \u001b[1;32min\u001b[0m \u001b[0mkey_val_quotes\u001b[0m\u001b[1;33m:\u001b[0m\u001b[1;33m\u001b[0m\u001b[1;33m\u001b[0m\u001b[0m\n\u001b[1;32m----> 7\u001b[1;33m         \u001b[0mwriter\u001b[0m\u001b[1;33m.\u001b[0m\u001b[0mwriterow\u001b[0m\u001b[1;33m(\u001b[0m\u001b[1;33m{\u001b[0m\u001b[1;34m'Quote by the Author'\u001b[0m\u001b[1;33m:\u001b[0m \u001b[0mkey\u001b[0m\u001b[1;33m,\u001b[0m \u001b[1;34m'Author'\u001b[0m\u001b[1;33m:\u001b[0m \u001b[0mkey_val_quotes\u001b[0m\u001b[1;33m[\u001b[0m\u001b[0mkey\u001b[0m\u001b[1;33m]\u001b[0m\u001b[1;33m}\u001b[0m\u001b[1;33m)\u001b[0m\u001b[1;33m\u001b[0m\u001b[1;33m\u001b[0m\u001b[0m\n\u001b[0m",
      "\u001b[1;32m~\\anaconda3\\lib\\csv.py\u001b[0m in \u001b[0;36mwriterow\u001b[1;34m(self, rowdict)\u001b[0m\n\u001b[0;32m    152\u001b[0m \u001b[1;33m\u001b[0m\u001b[0m\n\u001b[0;32m    153\u001b[0m     \u001b[1;32mdef\u001b[0m \u001b[0mwriterow\u001b[0m\u001b[1;33m(\u001b[0m\u001b[0mself\u001b[0m\u001b[1;33m,\u001b[0m \u001b[0mrowdict\u001b[0m\u001b[1;33m)\u001b[0m\u001b[1;33m:\u001b[0m\u001b[1;33m\u001b[0m\u001b[1;33m\u001b[0m\u001b[0m\n\u001b[1;32m--> 154\u001b[1;33m         \u001b[1;32mreturn\u001b[0m \u001b[0mself\u001b[0m\u001b[1;33m.\u001b[0m\u001b[0mwriter\u001b[0m\u001b[1;33m.\u001b[0m\u001b[0mwriterow\u001b[0m\u001b[1;33m(\u001b[0m\u001b[0mself\u001b[0m\u001b[1;33m.\u001b[0m\u001b[0m_dict_to_list\u001b[0m\u001b[1;33m(\u001b[0m\u001b[0mrowdict\u001b[0m\u001b[1;33m)\u001b[0m\u001b[1;33m)\u001b[0m\u001b[1;33m\u001b[0m\u001b[1;33m\u001b[0m\u001b[0m\n\u001b[0m\u001b[0;32m    155\u001b[0m \u001b[1;33m\u001b[0m\u001b[0m\n\u001b[0;32m    156\u001b[0m     \u001b[1;32mdef\u001b[0m \u001b[0mwriterows\u001b[0m\u001b[1;33m(\u001b[0m\u001b[0mself\u001b[0m\u001b[1;33m,\u001b[0m \u001b[0mrowdicts\u001b[0m\u001b[1;33m)\u001b[0m\u001b[1;33m:\u001b[0m\u001b[1;33m\u001b[0m\u001b[1;33m\u001b[0m\u001b[0m\n",
      "\u001b[1;32m~\\anaconda3\\lib\\encodings\\cp1252.py\u001b[0m in \u001b[0;36mencode\u001b[1;34m(self, input, final)\u001b[0m\n\u001b[0;32m     17\u001b[0m \u001b[1;32mclass\u001b[0m \u001b[0mIncrementalEncoder\u001b[0m\u001b[1;33m(\u001b[0m\u001b[0mcodecs\u001b[0m\u001b[1;33m.\u001b[0m\u001b[0mIncrementalEncoder\u001b[0m\u001b[1;33m)\u001b[0m\u001b[1;33m:\u001b[0m\u001b[1;33m\u001b[0m\u001b[1;33m\u001b[0m\u001b[0m\n\u001b[0;32m     18\u001b[0m     \u001b[1;32mdef\u001b[0m \u001b[0mencode\u001b[0m\u001b[1;33m(\u001b[0m\u001b[0mself\u001b[0m\u001b[1;33m,\u001b[0m \u001b[0minput\u001b[0m\u001b[1;33m,\u001b[0m \u001b[0mfinal\u001b[0m\u001b[1;33m=\u001b[0m\u001b[1;32mFalse\u001b[0m\u001b[1;33m)\u001b[0m\u001b[1;33m:\u001b[0m\u001b[1;33m\u001b[0m\u001b[1;33m\u001b[0m\u001b[0m\n\u001b[1;32m---> 19\u001b[1;33m         \u001b[1;32mreturn\u001b[0m \u001b[0mcodecs\u001b[0m\u001b[1;33m.\u001b[0m\u001b[0mcharmap_encode\u001b[0m\u001b[1;33m(\u001b[0m\u001b[0minput\u001b[0m\u001b[1;33m,\u001b[0m\u001b[0mself\u001b[0m\u001b[1;33m.\u001b[0m\u001b[0merrors\u001b[0m\u001b[1;33m,\u001b[0m\u001b[0mencoding_table\u001b[0m\u001b[1;33m)\u001b[0m\u001b[1;33m[\u001b[0m\u001b[1;36m0\u001b[0m\u001b[1;33m]\u001b[0m\u001b[1;33m\u001b[0m\u001b[1;33m\u001b[0m\u001b[0m\n\u001b[0m\u001b[0;32m     20\u001b[0m \u001b[1;33m\u001b[0m\u001b[0m\n\u001b[0;32m     21\u001b[0m \u001b[1;32mclass\u001b[0m \u001b[0mIncrementalDecoder\u001b[0m\u001b[1;33m(\u001b[0m\u001b[0mcodecs\u001b[0m\u001b[1;33m.\u001b[0m\u001b[0mIncrementalDecoder\u001b[0m\u001b[1;33m)\u001b[0m\u001b[1;33m:\u001b[0m\u001b[1;33m\u001b[0m\u001b[1;33m\u001b[0m\u001b[0m\n",
      "\u001b[1;31mUnicodeEncodeError\u001b[0m: 'charmap' codec can't encode character '\\u2032' in position 0: character maps to <undefined>"
     ]
    }
   ],
   "source": [
    "with open('quoteAuthor.csv', 'w', newline='') as csvfile:\n",
    "    columns = ['Quote by the Author', 'Author']\n",
    "    writer = csv.DictWriter(csvfile, fieldnames=columns)\n",
    "    \n",
    "    writer.writeheader()\n",
    "    for key in key_val_quotes:\n",
    "        writer.writerow({'Quote by the Author': key, 'Author': key_val_quotes[key]})"
   ]
  },
  {
   "cell_type": "code",
   "execution_count": null,
   "id": "a9237059",
   "metadata": {},
   "outputs": [],
   "source": []
  },
  {
   "cell_type": "code",
   "execution_count": 106,
   "id": "3f8795d1",
   "metadata": {},
   "outputs": [],
   "source": [
    "from bs4 import BeautifulSoup"
   ]
  },
  {
   "cell_type": "code",
   "execution_count": 107,
   "id": "48c6f99d",
   "metadata": {},
   "outputs": [],
   "source": [
    "pages_list = requests.get('https://quotes.toscrape.com').content\n",
    "\n",
    "soup = BeautifulSoup(pages_list, 'html.parser')"
   ]
  },
  {
   "cell_type": "code",
   "execution_count": 108,
   "id": "0150cb0d",
   "metadata": {},
   "outputs": [
    {
     "data": {
      "text/plain": [
       "<!DOCTYPE html>\n",
       "\n",
       "<html lang=\"en\">\n",
       "<head>\n",
       "<meta charset=\"utf-8\"/>\n",
       "<title>Quotes to Scrape</title>\n",
       "<link href=\"/static/bootstrap.min.css\" rel=\"stylesheet\"/>\n",
       "<link href=\"/static/main.css\" rel=\"stylesheet\"/>\n",
       "</head>\n",
       "<body>\n",
       "<div class=\"container\">\n",
       "<div class=\"row header-box\">\n",
       "<div class=\"col-md-8\">\n",
       "<h1>\n",
       "<a href=\"/\" style=\"text-decoration: none\">Quotes to Scrape</a>\n",
       "</h1>\n",
       "</div>\n",
       "<div class=\"col-md-4\">\n",
       "<p>\n",
       "<a href=\"/login\">Login</a>\n",
       "</p>\n",
       "</div>\n",
       "</div>\n",
       "<div class=\"row\">\n",
       "<div class=\"col-md-8\">\n",
       "<div class=\"quote\" itemscope=\"\" itemtype=\"http://schema.org/CreativeWork\">\n",
       "<span class=\"text\" itemprop=\"text\">“The world as we have created it is a process of our thinking. It cannot be changed without changing our thinking.”</span>\n",
       "<span>by <small class=\"author\" itemprop=\"author\">Albert Einstein</small>\n",
       "<a href=\"/author/Albert-Einstein\">(about)</a>\n",
       "</span>\n",
       "<div class=\"tags\">\n",
       "            Tags:\n",
       "            <meta class=\"keywords\" content=\"change,deep-thoughts,thinking,world\" itemprop=\"keywords\"/>\n",
       "<a class=\"tag\" href=\"/tag/change/page/1/\">change</a>\n",
       "<a class=\"tag\" href=\"/tag/deep-thoughts/page/1/\">deep-thoughts</a>\n",
       "<a class=\"tag\" href=\"/tag/thinking/page/1/\">thinking</a>\n",
       "<a class=\"tag\" href=\"/tag/world/page/1/\">world</a>\n",
       "</div>\n",
       "</div>\n",
       "<div class=\"quote\" itemscope=\"\" itemtype=\"http://schema.org/CreativeWork\">\n",
       "<span class=\"text\" itemprop=\"text\">“It is our choices, Harry, that show what we truly are, far more than our abilities.”</span>\n",
       "<span>by <small class=\"author\" itemprop=\"author\">J.K. Rowling</small>\n",
       "<a href=\"/author/J-K-Rowling\">(about)</a>\n",
       "</span>\n",
       "<div class=\"tags\">\n",
       "            Tags:\n",
       "            <meta class=\"keywords\" content=\"abilities,choices\" itemprop=\"keywords\"/>\n",
       "<a class=\"tag\" href=\"/tag/abilities/page/1/\">abilities</a>\n",
       "<a class=\"tag\" href=\"/tag/choices/page/1/\">choices</a>\n",
       "</div>\n",
       "</div>\n",
       "<div class=\"quote\" itemscope=\"\" itemtype=\"http://schema.org/CreativeWork\">\n",
       "<span class=\"text\" itemprop=\"text\">“There are only two ways to live your life. One is as though nothing is a miracle. The other is as though everything is a miracle.”</span>\n",
       "<span>by <small class=\"author\" itemprop=\"author\">Albert Einstein</small>\n",
       "<a href=\"/author/Albert-Einstein\">(about)</a>\n",
       "</span>\n",
       "<div class=\"tags\">\n",
       "            Tags:\n",
       "            <meta class=\"keywords\" content=\"inspirational,life,live,miracle,miracles\" itemprop=\"keywords\"/>\n",
       "<a class=\"tag\" href=\"/tag/inspirational/page/1/\">inspirational</a>\n",
       "<a class=\"tag\" href=\"/tag/life/page/1/\">life</a>\n",
       "<a class=\"tag\" href=\"/tag/live/page/1/\">live</a>\n",
       "<a class=\"tag\" href=\"/tag/miracle/page/1/\">miracle</a>\n",
       "<a class=\"tag\" href=\"/tag/miracles/page/1/\">miracles</a>\n",
       "</div>\n",
       "</div>\n",
       "<div class=\"quote\" itemscope=\"\" itemtype=\"http://schema.org/CreativeWork\">\n",
       "<span class=\"text\" itemprop=\"text\">“The person, be it gentleman or lady, who has not pleasure in a good novel, must be intolerably stupid.”</span>\n",
       "<span>by <small class=\"author\" itemprop=\"author\">Jane Austen</small>\n",
       "<a href=\"/author/Jane-Austen\">(about)</a>\n",
       "</span>\n",
       "<div class=\"tags\">\n",
       "            Tags:\n",
       "            <meta class=\"keywords\" content=\"aliteracy,books,classic,humor\" itemprop=\"keywords\"/>\n",
       "<a class=\"tag\" href=\"/tag/aliteracy/page/1/\">aliteracy</a>\n",
       "<a class=\"tag\" href=\"/tag/books/page/1/\">books</a>\n",
       "<a class=\"tag\" href=\"/tag/classic/page/1/\">classic</a>\n",
       "<a class=\"tag\" href=\"/tag/humor/page/1/\">humor</a>\n",
       "</div>\n",
       "</div>\n",
       "<div class=\"quote\" itemscope=\"\" itemtype=\"http://schema.org/CreativeWork\">\n",
       "<span class=\"text\" itemprop=\"text\">“Imperfection is beauty, madness is genius and it's better to be absolutely ridiculous than absolutely boring.”</span>\n",
       "<span>by <small class=\"author\" itemprop=\"author\">Marilyn Monroe</small>\n",
       "<a href=\"/author/Marilyn-Monroe\">(about)</a>\n",
       "</span>\n",
       "<div class=\"tags\">\n",
       "            Tags:\n",
       "            <meta class=\"keywords\" content=\"be-yourself,inspirational\" itemprop=\"keywords\"/>\n",
       "<a class=\"tag\" href=\"/tag/be-yourself/page/1/\">be-yourself</a>\n",
       "<a class=\"tag\" href=\"/tag/inspirational/page/1/\">inspirational</a>\n",
       "</div>\n",
       "</div>\n",
       "<div class=\"quote\" itemscope=\"\" itemtype=\"http://schema.org/CreativeWork\">\n",
       "<span class=\"text\" itemprop=\"text\">“Try not to become a man of success. Rather become a man of value.”</span>\n",
       "<span>by <small class=\"author\" itemprop=\"author\">Albert Einstein</small>\n",
       "<a href=\"/author/Albert-Einstein\">(about)</a>\n",
       "</span>\n",
       "<div class=\"tags\">\n",
       "            Tags:\n",
       "            <meta class=\"keywords\" content=\"adulthood,success,value\" itemprop=\"keywords\"/>\n",
       "<a class=\"tag\" href=\"/tag/adulthood/page/1/\">adulthood</a>\n",
       "<a class=\"tag\" href=\"/tag/success/page/1/\">success</a>\n",
       "<a class=\"tag\" href=\"/tag/value/page/1/\">value</a>\n",
       "</div>\n",
       "</div>\n",
       "<div class=\"quote\" itemscope=\"\" itemtype=\"http://schema.org/CreativeWork\">\n",
       "<span class=\"text\" itemprop=\"text\">“It is better to be hated for what you are than to be loved for what you are not.”</span>\n",
       "<span>by <small class=\"author\" itemprop=\"author\">André Gide</small>\n",
       "<a href=\"/author/Andre-Gide\">(about)</a>\n",
       "</span>\n",
       "<div class=\"tags\">\n",
       "            Tags:\n",
       "            <meta class=\"keywords\" content=\"life,love\" itemprop=\"keywords\"/>\n",
       "<a class=\"tag\" href=\"/tag/life/page/1/\">life</a>\n",
       "<a class=\"tag\" href=\"/tag/love/page/1/\">love</a>\n",
       "</div>\n",
       "</div>\n",
       "<div class=\"quote\" itemscope=\"\" itemtype=\"http://schema.org/CreativeWork\">\n",
       "<span class=\"text\" itemprop=\"text\">“I have not failed. I've just found 10,000 ways that won't work.”</span>\n",
       "<span>by <small class=\"author\" itemprop=\"author\">Thomas A. Edison</small>\n",
       "<a href=\"/author/Thomas-A-Edison\">(about)</a>\n",
       "</span>\n",
       "<div class=\"tags\">\n",
       "            Tags:\n",
       "            <meta class=\"keywords\" content=\"edison,failure,inspirational,paraphrased\" itemprop=\"keywords\"/>\n",
       "<a class=\"tag\" href=\"/tag/edison/page/1/\">edison</a>\n",
       "<a class=\"tag\" href=\"/tag/failure/page/1/\">failure</a>\n",
       "<a class=\"tag\" href=\"/tag/inspirational/page/1/\">inspirational</a>\n",
       "<a class=\"tag\" href=\"/tag/paraphrased/page/1/\">paraphrased</a>\n",
       "</div>\n",
       "</div>\n",
       "<div class=\"quote\" itemscope=\"\" itemtype=\"http://schema.org/CreativeWork\">\n",
       "<span class=\"text\" itemprop=\"text\">“A woman is like a tea bag; you never know how strong it is until it's in hot water.”</span>\n",
       "<span>by <small class=\"author\" itemprop=\"author\">Eleanor Roosevelt</small>\n",
       "<a href=\"/author/Eleanor-Roosevelt\">(about)</a>\n",
       "</span>\n",
       "<div class=\"tags\">\n",
       "            Tags:\n",
       "            <meta class=\"keywords\" content=\"misattributed-eleanor-roosevelt\" itemprop=\"keywords\"/>\n",
       "<a class=\"tag\" href=\"/tag/misattributed-eleanor-roosevelt/page/1/\">misattributed-eleanor-roosevelt</a>\n",
       "</div>\n",
       "</div>\n",
       "<div class=\"quote\" itemscope=\"\" itemtype=\"http://schema.org/CreativeWork\">\n",
       "<span class=\"text\" itemprop=\"text\">“A day without sunshine is like, you know, night.”</span>\n",
       "<span>by <small class=\"author\" itemprop=\"author\">Steve Martin</small>\n",
       "<a href=\"/author/Steve-Martin\">(about)</a>\n",
       "</span>\n",
       "<div class=\"tags\">\n",
       "            Tags:\n",
       "            <meta class=\"keywords\" content=\"humor,obvious,simile\" itemprop=\"keywords\"/>\n",
       "<a class=\"tag\" href=\"/tag/humor/page/1/\">humor</a>\n",
       "<a class=\"tag\" href=\"/tag/obvious/page/1/\">obvious</a>\n",
       "<a class=\"tag\" href=\"/tag/simile/page/1/\">simile</a>\n",
       "</div>\n",
       "</div>\n",
       "<nav>\n",
       "<ul class=\"pager\">\n",
       "<li class=\"next\">\n",
       "<a href=\"/page/2/\">Next <span aria-hidden=\"true\">→</span></a>\n",
       "</li>\n",
       "</ul>\n",
       "</nav>\n",
       "</div>\n",
       "<div class=\"col-md-4 tags-box\">\n",
       "<h2>Top Ten tags</h2>\n",
       "<span class=\"tag-item\">\n",
       "<a class=\"tag\" href=\"/tag/love/\" style=\"font-size: 28px\">love</a>\n",
       "</span>\n",
       "<span class=\"tag-item\">\n",
       "<a class=\"tag\" href=\"/tag/inspirational/\" style=\"font-size: 26px\">inspirational</a>\n",
       "</span>\n",
       "<span class=\"tag-item\">\n",
       "<a class=\"tag\" href=\"/tag/life/\" style=\"font-size: 26px\">life</a>\n",
       "</span>\n",
       "<span class=\"tag-item\">\n",
       "<a class=\"tag\" href=\"/tag/humor/\" style=\"font-size: 24px\">humor</a>\n",
       "</span>\n",
       "<span class=\"tag-item\">\n",
       "<a class=\"tag\" href=\"/tag/books/\" style=\"font-size: 22px\">books</a>\n",
       "</span>\n",
       "<span class=\"tag-item\">\n",
       "<a class=\"tag\" href=\"/tag/reading/\" style=\"font-size: 14px\">reading</a>\n",
       "</span>\n",
       "<span class=\"tag-item\">\n",
       "<a class=\"tag\" href=\"/tag/friendship/\" style=\"font-size: 10px\">friendship</a>\n",
       "</span>\n",
       "<span class=\"tag-item\">\n",
       "<a class=\"tag\" href=\"/tag/friends/\" style=\"font-size: 8px\">friends</a>\n",
       "</span>\n",
       "<span class=\"tag-item\">\n",
       "<a class=\"tag\" href=\"/tag/truth/\" style=\"font-size: 8px\">truth</a>\n",
       "</span>\n",
       "<span class=\"tag-item\">\n",
       "<a class=\"tag\" href=\"/tag/simile/\" style=\"font-size: 6px\">simile</a>\n",
       "</span>\n",
       "</div>\n",
       "</div>\n",
       "</div>\n",
       "<footer class=\"footer\">\n",
       "<div class=\"container\">\n",
       "<p class=\"text-muted\">\n",
       "                Quotes by: <a href=\"https://www.goodreads.com/quotes\">GoodReads.com</a>\n",
       "</p>\n",
       "<p class=\"copyright\">\n",
       "                Made with <span class=\"sh-red\">❤</span> by <a href=\"https://scrapinghub.com\">Scrapinghub</a>\n",
       "</p>\n",
       "</div>\n",
       "</footer>\n",
       "</body>\n",
       "</html>"
      ]
     },
     "execution_count": 108,
     "metadata": {},
     "output_type": "execute_result"
    }
   ],
   "source": [
    "soup"
   ]
  },
  {
   "cell_type": "code",
   "execution_count": 125,
   "id": "7b663398",
   "metadata": {},
   "outputs": [
    {
     "name": "stdout",
     "output_type": "stream",
     "text": [
      "<a href=\"/page/2/\">Next <span aria-hidden=\"true\">→</span></a>\n"
     ]
    }
   ],
   "source": [
    "print(soup.select_one('nav a'))"
   ]
  },
  {
   "cell_type": "code",
   "execution_count": 126,
   "id": "b44663df",
   "metadata": {},
   "outputs": [],
   "source": [
    "next_link = soup.select_one('nav a')"
   ]
  },
  {
   "cell_type": "code",
   "execution_count": 127,
   "id": "7eea38f4",
   "metadata": {},
   "outputs": [
    {
     "data": {
      "text/plain": [
       "<a href=\"/page/2/\">Next <span aria-hidden=\"true\">→</span></a>"
      ]
     },
     "execution_count": 127,
     "metadata": {},
     "output_type": "execute_result"
    }
   ],
   "source": [
    "next_link"
   ]
  },
  {
   "cell_type": "code",
   "execution_count": 128,
   "id": "905f7cfd",
   "metadata": {},
   "outputs": [
    {
     "data": {
      "text/plain": [
       "'/page/2/'"
      ]
     },
     "execution_count": 128,
     "metadata": {},
     "output_type": "execute_result"
    }
   ],
   "source": [
    "next_link.attrs['href']"
   ]
  },
  {
   "cell_type": "code",
   "execution_count": 142,
   "id": "202f6a42",
   "metadata": {},
   "outputs": [],
   "source": [
    "all_urls = []\n",
    "for i in range(1,11):\n",
    "    a = f'https://quotes.toscrape.com/page/{i}/'\n",
    "    \n",
    "    all_urls.append(a)"
   ]
  },
  {
   "cell_type": "code",
   "execution_count": 133,
   "id": "726075ef",
   "metadata": {},
   "outputs": [],
   "source": [
    "all_page = QuotesPage(page_content)"
   ]
  },
  {
   "cell_type": "code",
   "execution_count": 134,
   "id": "d43f8384",
   "metadata": {},
   "outputs": [
    {
     "data": {
      "text/plain": [
       "[<The quote “The world as we have created it is a process of our thinking. It cannot be changed without changing our thinking.” by Albert Einstein>,\n",
       " <The quote “It is our choices, Harry, that show what we truly are, far more than our abilities.” by J.K. Rowling>,\n",
       " <The quote “There are only two ways to live your life. One is as though nothing is a miracle. The other is as though everything is a miracle.” by Albert Einstein>,\n",
       " <The quote “The person, be it gentleman or lady, who has not pleasure in a good novel, must be intolerably stupid.” by Jane Austen>,\n",
       " <The quote “Imperfection is beauty, madness is genius and it's better to be absolutely ridiculous than absolutely boring.” by Marilyn Monroe>,\n",
       " <The quote “Try not to become a man of success. Rather become a man of value.” by Albert Einstein>,\n",
       " <The quote “It is better to be hated for what you are than to be loved for what you are not.” by André Gide>,\n",
       " <The quote “I have not failed. I've just found 10,000 ways that won't work.” by Thomas A. Edison>,\n",
       " <The quote “A woman is like a tea bag; you never know how strong it is until it's in hot water.” by Eleanor Roosevelt>,\n",
       " <The quote “A day without sunshine is like, you know, night.” by Steve Martin>]"
      ]
     },
     "execution_count": 134,
     "metadata": {},
     "output_type": "execute_result"
    }
   ],
   "source": [
    "all_page.quotes"
   ]
  },
  {
   "cell_type": "code",
   "execution_count": 143,
   "id": "ff8f253d",
   "metadata": {},
   "outputs": [
    {
     "data": {
      "text/plain": [
       "['https://quotes.toscrape.com/page/1/',\n",
       " 'https://quotes.toscrape.com/page/2/',\n",
       " 'https://quotes.toscrape.com/page/3/',\n",
       " 'https://quotes.toscrape.com/page/4/',\n",
       " 'https://quotes.toscrape.com/page/5/',\n",
       " 'https://quotes.toscrape.com/page/6/',\n",
       " 'https://quotes.toscrape.com/page/7/',\n",
       " 'https://quotes.toscrape.com/page/8/',\n",
       " 'https://quotes.toscrape.com/page/9/',\n",
       " 'https://quotes.toscrape.com/page/10/']"
      ]
     },
     "execution_count": 143,
     "metadata": {},
     "output_type": "execute_result"
    }
   ],
   "source": [
    "all_urls"
   ]
  },
  {
   "cell_type": "code",
   "execution_count": 137,
   "id": "3b708519",
   "metadata": {},
   "outputs": [],
   "source": [
    "from urllib.request import urlopen"
   ]
  },
  {
   "cell_type": "code",
   "execution_count": 138,
   "id": "ca10af43",
   "metadata": {},
   "outputs": [],
   "source": [
    "all_url = []\n",
    "for i in range(1, 11):\n",
    "    url = f'https://quotes.toscrape.com/page/{i}/'\n",
    "    page = urlopen(url)\n",
    "    soup = BeautifulSoup(page, 'html.parser')\n",
    "    all_url.append(url)"
   ]
  },
  {
   "cell_type": "code",
   "execution_count": 139,
   "id": "de9a59b2",
   "metadata": {},
   "outputs": [
    {
     "data": {
      "text/plain": [
       "['https://quotes.toscrape.com/page/1/',\n",
       " 'https://quotes.toscrape.com/page/2/',\n",
       " 'https://quotes.toscrape.com/page/3/',\n",
       " 'https://quotes.toscrape.com/page/4/',\n",
       " 'https://quotes.toscrape.com/page/5/',\n",
       " 'https://quotes.toscrape.com/page/6/',\n",
       " 'https://quotes.toscrape.com/page/7/',\n",
       " 'https://quotes.toscrape.com/page/8/',\n",
       " 'https://quotes.toscrape.com/page/9/',\n",
       " 'https://quotes.toscrape.com/page/10/']"
      ]
     },
     "execution_count": 139,
     "metadata": {},
     "output_type": "execute_result"
    }
   ],
   "source": [
    "all_url"
   ]
  },
  {
   "cell_type": "code",
   "execution_count": 159,
   "id": "e2275677",
   "metadata": {},
   "outputs": [],
   "source": [
    "# page_content = requests.get('https://quotes.toscrape.com').content\n",
    "\n",
    "# page = QuotesPage(page_content) | page.quotes\n",
    "\n",
    "quotes_library = []\n",
    "for i in all_urls:\n",
    "    a = requests.get(i).content\n",
    "    \n",
    "    page = QuotesPage(a)\n",
    "    quotes_library.append(page.quotes)\n",
    "#     print(page.quotes)"
   ]
  },
  {
   "cell_type": "code",
   "execution_count": 162,
   "id": "b7b73b20",
   "metadata": {},
   "outputs": [
    {
     "data": {
      "text/plain": [
       "10"
      ]
     },
     "execution_count": 162,
     "metadata": {},
     "output_type": "execute_result"
    }
   ],
   "source": [
    "len(quotes_library)"
   ]
  },
  {
   "cell_type": "code",
   "execution_count": 165,
   "id": "80b15c6f",
   "metadata": {},
   "outputs": [],
   "source": [
    "all_quotes = [item for sublist in quotes_library for item in sublist]"
   ]
  },
  {
   "cell_type": "code",
   "execution_count": 166,
   "id": "c8464d6e",
   "metadata": {},
   "outputs": [],
   "source": [
    "quotes = []\n",
    "author = []\n",
    "\n",
    "for quote in all_quotes:\n",
    "    q = re.search('“(.*?)”', str(quote)).group(1)\n",
    "    a = re.search('(”\\sby\\s)(.*?)>', str(quote)).group(2)\n",
    "    \n",
    "    quotes.append(q)\n",
    "    author.append(a)"
   ]
  },
  {
   "cell_type": "code",
   "execution_count": 173,
   "id": "6e97f23f",
   "metadata": {},
   "outputs": [
    {
     "data": {
      "text/plain": [
       "{'The world as we have created it is a process of our thinking. It cannot be changed without changing our thinking.': 'Albert Einstein',\n",
       " 'It is our choices, Harry, that show what we truly are, far more than our abilities.': 'J.K. Rowling',\n",
       " 'There are only two ways to live your life. One is as though nothing is a miracle. The other is as though everything is a miracle.': 'Albert Einstein',\n",
       " 'The person, be it gentleman or lady, who has not pleasure in a good novel, must be intolerably stupid.': 'Jane Austen',\n",
       " \"Imperfection is beauty, madness is genius and it's better to be absolutely ridiculous than absolutely boring.\": 'Marilyn Monroe',\n",
       " 'Try not to become a man of success. Rather become a man of value.': 'Albert Einstein',\n",
       " 'It is better to be hated for what you are than to be loved for what you are not.': 'André Gide',\n",
       " \"I have not failed. I've just found 10,000 ways that won't work.\": 'Thomas A. Edison',\n",
       " \"A woman is like a tea bag; you never know how strong it is until it's in hot water.\": 'Eleanor Roosevelt',\n",
       " 'A day without sunshine is like, you know, night.': 'Steve Martin',\n",
       " \"This life is what you make it. No matter what, you're going to mess up sometimes, it's a universal truth. But the good part is you get to decide how you're going to mess it up. Girls will be your friends - they'll act like it anyway. But just remember, some come, some go. The ones that stay with you through everything - they're your true best friends. Don't let go of them. Also remember, sisters make the best friends in the world. As for lovers, well, they'll come and go too. And baby, I hate to say it, most of them - actually pretty much all of them are going to break your heart, but you can't give up because if you give up, you'll never find your soulmate. You'll never find that half who makes you whole and that goes for everything. Just because you fail once, doesn't mean you're gonna fail at everything. Keep trying, hold on, and always, always, always believe in yourself, because if you don't, then who will, sweetie? So keep your head high, keep your chin up, and most importantly, keep smiling, because life's a beautiful thing and there's so much to smile about.\": 'Marilyn Monroe',\n",
       " 'It takes a great deal of bravery to stand up to our enemies, but just as much to stand up to our friends.': 'J.K. Rowling',\n",
       " \"If you can't explain it to a six year old, you don't understand it yourself.\": 'Albert Einstein',\n",
       " \"You may not be her first, her last, or her only. She loved before she may love again. But if she loves you now, what else matters? She's not perfect—you aren't either, and the two of you may never be perfect together but if she can make you laugh, cause you to think twice, and admit to being human and making mistakes, hold onto her and give her the most you can. She may not be thinking about you every second of the day, but she will give you a part of her that she knows you can break—her heart. So don't hurt her, don't change her, don't analyze and don't expect more than she can give. Smile when she makes you happy, let her know when she makes you mad, and miss her when she's not there.\": 'Bob Marley',\n",
       " 'I like nonsense, it wakes up the brain cells. Fantasy is a necessary ingredient in living.': 'Dr. Seuss',\n",
       " 'I may not have gone where I intended to go, but I think I have ended up where I needed to be.': 'Douglas Adams',\n",
       " \"The opposite of love is not hate, it's indifference. The opposite of art is not ugliness, it's indifference. The opposite of faith is not heresy, it's indifference. And the opposite of life is not death, it's indifference.\": 'Elie Wiesel',\n",
       " 'It is not a lack of love, but a lack of friendship that makes unhappy marriages.': 'Friedrich Nietzsche',\n",
       " 'Good friends, good books, and a sleepy conscience: this is the ideal life.': 'Mark Twain',\n",
       " 'Life is what happens to us while we are making other plans.': 'Allen Saunders',\n",
       " 'I love you without knowing how, or when, or from where. I love you simply, without problems or pride: I love you in this way because I do not know any other way of loving but this, in which there is no I or you, so intimate that your hand upon my chest is my hand, so intimate that when I fall asleep your eyes close.': 'Pablo Neruda',\n",
       " 'For every minute you are angry you lose sixty seconds of happiness.': 'Ralph Waldo Emerson',\n",
       " 'If you judge people, you have no time to love them.': 'Mother Teresa',\n",
       " 'Anyone who thinks sitting in church can make you a Christian must also think that sitting in a garage can make you a car.': 'Garrison Keillor',\n",
       " 'Beauty is in the eye of the beholder and it may be necessary from time to time to give a stupid or misinformed beholder a black eye.': 'Jim Henson',\n",
       " 'Today you are You, that is truer than true. There is no one alive who is Youer than You.': 'Dr. Seuss',\n",
       " 'If you want your children to be intelligent, read them fairy tales. If you want them to be more intelligent, read them more fairy tales.': 'Albert Einstein',\n",
       " 'It is impossible to live without failing at something, unless you live so cautiously that you might as well not have lived at all - in which case, you fail by default.': 'J.K. Rowling',\n",
       " 'Logic will get you from A to Z; imagination will get you everywhere.': 'Albert Einstein',\n",
       " 'One good thing about music, when it hits you, you feel no pain.': 'Bob Marley',\n",
       " \"The more that you read, the more things you will know. The more that you learn, the more places you'll go.\": 'Dr. Seuss',\n",
       " 'Of course it is happening inside your head, Harry, but why on earth should that mean that it is not real?': 'J.K. Rowling',\n",
       " 'The truth is, everyone is going to hurt you. You just got to find the ones worth suffering for.': 'Bob Marley',\n",
       " 'Not all of us can do great things. But we can do small things with great love.': 'Mother Teresa',\n",
       " 'To the well-organized mind, death is but the next great adventure.': 'J.K. Rowling',\n",
       " \"All you need is love. But a little chocolate now and then doesn't hurt.\": 'Charles M. Schulz',\n",
       " \"We read to know we're not alone.\": 'William Nicholson',\n",
       " 'Any fool can know. The point is to understand.': 'Albert Einstein',\n",
       " 'I have always imagined that Paradise will be a kind of library.': 'Jorge Luis Borges',\n",
       " 'It is never too late to be what you might have been.': 'George Eliot',\n",
       " 'A reader lives a thousand lives before he dies, said Jojen. The man who never reads lives only one.': 'George R.R. Martin',\n",
       " 'You can never get a cup of tea large enough or a book long enough to suit me.': 'C.S. Lewis',\n",
       " 'You believe lies so you eventually learn to trust no one but yourself.': 'Marilyn Monroe',\n",
       " 'If you can make a woman laugh, you can make her do anything.': 'Marilyn Monroe',\n",
       " 'Life is like riding a bicycle. To keep your balance, you must keep moving.': 'Albert Einstein',\n",
       " 'The real lover is the man who can thrill you by kissing your forehead or smiling into your eyes or just staring into space.': 'Marilyn Monroe',\n",
       " \"A wise girl kisses but doesn't love, listens but doesn't believe, and leaves before she is left.\": 'Marilyn Monroe',\n",
       " 'Only in the darkness can you see the stars.': 'Martin Luther King Jr.',\n",
       " 'It matters not what someone is born, but what they grow to be.': 'J.K. Rowling',\n",
       " 'Love does not begin and end the way we seem to think it does. Love is a battle, love is a war; love is a growing up.': 'James Baldwin',\n",
       " 'There is nothing I would not do for those who are really my friends. I have no notion of loving people by halves, it is not my nature.': 'Jane Austen',\n",
       " 'Do one thing every day that scares you.': 'Eleanor Roosevelt',\n",
       " 'I am good, but not an angel. I do sin, but I am not the devil. I am just a small girl in a big world trying to find someone to love.': 'Marilyn Monroe',\n",
       " 'If I were not a physicist, I would probably be a musician. I often think in music. I live my daydreams in music. I see my life in terms of music.': 'Albert Einstein',\n",
       " 'If you only read the books that everyone else is reading, you can only think what everyone else is thinking.': 'Haruki Murakami',\n",
       " 'The difference between genius and stupidity is: genius has its limits.': 'Alexandre Dumas fils',\n",
       " \"He's like a drug for you, Bella.\": 'Stephenie Meyer',\n",
       " 'There is no friend as loyal as a book.': 'Ernest Hemingway',\n",
       " 'When one door of happiness closes, another opens; but often we look so long at the closed door that we do not see the one which has been opened for us.': 'Helen Keller',\n",
       " \"Life isn't about finding yourself. Life is about creating yourself.\": 'George Bernard Shaw',\n",
       " \"That's the problem with drinking, I thought, as I poured myself a drink. If something bad happens you drink in an attempt to forget; if something good happens you drink in order to celebrate; and if nothing happens you drink to make something happen.\": 'Charles Bukowski',\n",
       " 'You don’t forget the face of the person who was your last hope.': 'Suzanne Collins',\n",
       " \"Remember, we're madly in love, so it's all right to kiss me anytime you feel like it.\": 'Suzanne Collins',\n",
       " 'To love at all is to be vulnerable. Love anything and your heart will be wrung and possibly broken. If you want to make sure of keeping it intact you must give it to no one, not even an animal. Wrap it carefully round with hobbies and little luxuries; avoid all entanglements. Lock it up safe in the casket or coffin of your selfishness. But in that casket, safe, dark, motionless, airless, it will change. It will not be broken; it will become unbreakable, impenetrable, irredeemable. To love is to be vulnerable.': 'C.S. Lewis',\n",
       " 'Not all those who wander are lost.': 'J.R.R. Tolkien',\n",
       " 'Do not pity the dead, Harry. Pity the living, and, above all those who live without love.': 'J.K. Rowling',\n",
       " 'There is nothing to writing. All you do is sit down at a typewriter and bleed.': 'Ernest Hemingway',\n",
       " 'Finish each day and be done with it. You have done what you could. Some blunders and absurdities no doubt crept in; forget them as soon as you can. Tomorrow is a new day. You shall begin it serenely and with too high a spirit to be encumbered with your old nonsense.': 'Ralph Waldo Emerson',\n",
       " 'I have never let my schooling interfere with my education.': 'Mark Twain',\n",
       " \"I have heard there are troubles of more than one kind. Some come from ahead and some come from behind. But I've bought a big bat. I'm all ready you see. Now my troubles are going to have troubles with me!\": 'Dr. Seuss',\n",
       " 'If I had a flower for every time I thought of you...I could walk through my garden forever.': 'Alfred Tennyson',\n",
       " 'Some people never go crazy. What truly horrible lives they must lead.': 'Charles Bukowski',\n",
       " 'The trouble with having an open mind, of course, is that people will insist on coming along and trying to put things in it.': 'Terry Pratchett',\n",
       " 'Think left and think right and think low and think high. Oh, the thinks you can think up if only you try!': 'Dr. Seuss',\n",
       " \"What really knocks me out is a book that, when you're all done reading it, you wish the author that wrote it was a terrific friend of yours and you could call him up on the phone whenever you felt like it. That doesn't happen much, though.\": 'J.D. Salinger',\n",
       " 'The reason I talk to myself is because I’m the only one whose answers I accept.': 'George Carlin',\n",
       " \"You may say I'm a dreamer, but I'm not the only one. I hope someday you'll join us. And the world will live as one.\": 'John Lennon',\n",
       " 'I am free of all prejudice. I hate everyone equally. ': 'W.C. Fields',\n",
       " \"The question isn't who is going to let me; it's who is going to stop me.\": 'Ayn Rand',\n",
       " \"′Classic′ - a book which people praise and don't read.\": 'Mark Twain',\n",
       " 'Anyone who has never made a mistake has never tried anything new.': 'Albert Einstein',\n",
       " \"A lady's imagination is very rapid; it jumps from admiration to love, from love to matrimony in a moment.\": 'Jane Austen',\n",
       " 'Remember, if the time should come when you have to make a choice between what is right and what is easy, remember what happened to a boy who was good, and kind, and brave, because he strayed across the path of Lord Voldemort. Remember Cedric Diggory.': 'J.K. Rowling',\n",
       " 'I declare after all there is no enjoyment like reading! How much sooner one tires of any thing than of a book! -- When I have a house of my own, I shall be miserable if I have not an excellent library.': 'Jane Austen',\n",
       " 'There are few people whom I really love, and still fewer of whom I think well. The more I see of the world, the more am I dissatisfied with it; and every day confirms my belief of the inconsistency of all human characters, and of the little dependence that can be placed on the appearance of merit or sense.': 'Jane Austen',\n",
       " 'Some day you will be old enough to start reading fairy tales again.': 'C.S. Lewis',\n",
       " 'We are not necessarily doubting that God will do the best for us; we are wondering how painful the best will turn out to be.': 'C.S. Lewis',\n",
       " 'The fear of death follows from the fear of life. A man who lives fully is prepared to die at any time.': 'Mark Twain',\n",
       " 'A lie can travel half way around the world while the truth is putting on its shoes.': 'Mark Twain',\n",
       " 'I believe in Christianity as I believe that the sun has risen: not only because I see it, but because by it I see everything else.': 'C.S. Lewis',\n",
       " 'The truth.\" Dumbledore sighed. \"It is a beautiful and terrible thing, and should therefore be treated with great caution.': 'J.K. Rowling',\n",
       " \"I'm the one that's got to die when it's time for me to die, so let me live my life the way I want to.\": 'Jimi Hendrix',\n",
       " 'To die will be an awfully big adventure.': 'J.M. Barrie',\n",
       " 'It takes courage to grow up and become who you really are.': 'E.E. Cummings',\n",
       " 'But better to get hurt by the truth than comforted with a lie.': 'Khaled Hosseini',\n",
       " 'You never really understand a person until you consider things from his point of view... Until you climb inside of his skin and walk around in it.': 'Harper Lee',\n",
       " 'You have to write the book that wants to be written. And if the book will be too difficult for grown-ups, then you write it for children.': \"Madeleine L'Engle\",\n",
       " 'Never tell the truth to people who are not worthy of it.': 'Mark Twain',\n",
       " \"A person's a person, no matter how small.\": 'Dr. Seuss',\n",
       " '... a mind needs books as a sword needs a whetstone, if it is to keep its edge.': 'George R.R. Martin'}"
      ]
     },
     "execution_count": 173,
     "metadata": {},
     "output_type": "execute_result"
    }
   ],
   "source": [
    "key_val_quotes"
   ]
  },
  {
   "cell_type": "code",
   "execution_count": 174,
   "id": "240cf645",
   "metadata": {},
   "outputs": [],
   "source": [
    "import pandas as pd"
   ]
  },
  {
   "cell_type": "code",
   "execution_count": 175,
   "id": "1aa8d8f4",
   "metadata": {},
   "outputs": [],
   "source": [
    "# df = pd.DataFrame(all_quotes, columns=['quote', 'author', 'tags'])\n",
    "df = pd.DataFrame(key_val_quotes.items(), columns=['Quote', 'Author'])"
   ]
  },
  {
   "cell_type": "code",
   "execution_count": 177,
   "id": "0a49ae13",
   "metadata": {},
   "outputs": [],
   "source": [
    "df.to_csv('All_quotes.csv', index = False)"
   ]
  },
  {
   "cell_type": "code",
   "execution_count": null,
   "id": "954a02d1",
   "metadata": {},
   "outputs": [],
   "source": []
  }
 ],
 "metadata": {
  "kernelspec": {
   "display_name": "Python 3 (ipykernel)",
   "language": "python",
   "name": "python3"
  },
  "language_info": {
   "codemirror_mode": {
    "name": "ipython",
    "version": 3
   },
   "file_extension": ".py",
   "mimetype": "text/x-python",
   "name": "python",
   "nbconvert_exporter": "python",
   "pygments_lexer": "ipython3",
   "version": "3.9.7"
  }
 },
 "nbformat": 4,
 "nbformat_minor": 5
}
